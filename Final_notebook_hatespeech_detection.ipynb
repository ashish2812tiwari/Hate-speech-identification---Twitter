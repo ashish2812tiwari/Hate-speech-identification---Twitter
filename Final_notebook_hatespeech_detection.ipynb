{
 "cells": [
  {
   "cell_type": "markdown",
   "id": "4fd4d068",
   "metadata": {},
   "source": [
    "# Twitter Hate Speech Detection"
   ]
  },
  {
   "cell_type": "markdown",
   "id": "ddb13e76",
   "metadata": {},
   "source": [
    "<img src=\"test.jpg\" width=\"700\" height=\"200\">"
   ]
  },
  {
   "cell_type": "markdown",
   "id": "1803185d",
   "metadata": {},
   "source": [
    "# Overview\n",
    "\n",
    "This project aims to identify **hate speech** using **machine learning binary classification algorithms.** Baseline models included Random Forest, Naive Bayes, Logistic Regression and Support Vector Machine (SVM). The final model was a **Logistic Regression** model that used Count Vectorization for feature engineering. It produced an F1 score of 0.3958 and Recall of 0.624. Therefore, our goal is to automate hate speech identification, which is a very challenging issue. And while this effort was able to start that process, more work needs to be done to prevent this content from appearing on public venues like Twitter.\n"
   ]
  },
  {
   "cell_type": "markdown",
   "id": "78c0d411",
   "metadata": {},
   "source": [
    "**$\\color{red}{\\text{Warning}}$ : This notebook contains offensive language from the dataset.**"
   ]
  },
  {
   "cell_type": "markdown",
   "id": "ef2da6ed",
   "metadata": {},
   "source": [
    "# Data & Methods\n",
    "\n",
    "The dataset for this capstone project was obtained from Twitter using the snscrape library, which also formatted the raw data for simple understanding.**Here we are taking only past 10000 tweets from date 31/1/2023.** \n",
    "\n",
    "Since content moderation is so arbitrary, this dataset's labels were chosen by a public vote and based on majority-rules. Each tweet is assigned a class—0 for hate speech, 1 for foul language, or 2 for neither—in the \"class\" column. I'll be handling the data as a binary classification challenge in order to develop a distinct project and modify it for my own business environment.\n",
    "\n",
    "Therefore, the final model will be **predicting whether a tweet is hate speech or not.** In order to prepare the data for this, I will manually replace the existing values of 1 and 2 with 0 and 1 to represent hate speech."
   ]
  },
  {
   "cell_type": "markdown",
   "id": "a9de0d42",
   "metadata": {},
   "source": [
    "# Data collection from twitter "
   ]
  },
  {
   "cell_type": "markdown",
   "id": "9f45dc73",
   "metadata": {},
   "source": [
    "### Retrieving data from Twitter by installing the snscrape library"
   ]
  },
  {
   "cell_type": "markdown",
   "id": "8720727b",
   "metadata": {},
   "source": [
    "## Useful libraries must be consulted."
   ]
  },
  {
   "cell_type": "code",
   "execution_count": 251,
   "id": "eb43fdae",
   "metadata": {},
   "outputs": [],
   "source": [
    "import pandas as pd\n",
    "from tqdm.notebook import tqdm\n",
    "import snscrape.modules.twitter as sntwitter\n",
    "\n",
    "# visualization libraries\n",
    "import matplotlib.pyplot as plt\n",
    "from matplotlib import cm\n",
    "import seaborn as sns\n",
    "import numpy as np\n",
    "\n",
    "# packages for data cleaning function\n",
    "import re\n",
    "import string\n",
    "import pickle\n",
    "\n",
    "# sentiment of tweets \n",
    "from textblob import TextBlob\n",
    "\n",
    "from sklearn.model_selection import train_test_split,cross_val_score\n",
    "from sklearn.metrics import precision_score, recall_score, f1_score, confusion_matrix, plot_confusion_matrix, classification_report\n",
    "\n",
    "# NLP libraries\n",
    "import nltk\n",
    "from sklearn.feature_extraction import text\n",
    "from nltk.tokenize import word_tokenize\n",
    "from nltk.stem import WordNetLemmatizer \n",
    "from sklearn.feature_extraction.text import CountVectorizer\n",
    "from sklearn.feature_extraction.text import TfidfVectorizer\n",
    "from sklearn.feature_extraction.text import TfidfTransformer\n",
    "from nltk.probability import FreqDist\n",
    "from nltk.corpus import stopwords\n",
    "from nltk.stem import PorterStemmer\n",
    "from sklearn.naive_bayes import MultinomialNB\n",
    "from sklearn.linear_model import LogisticRegression\n",
    "from sklearn.ensemble import RandomForestClassifier\n",
    "\n",
    "import warnings\n",
    "warnings.filterwarnings(\"ignore\")"
   ]
  },
  {
   "cell_type": "code",
   "execution_count": 252,
   "id": "2d9bdf27",
   "metadata": {},
   "outputs": [],
   "source": [
    "scraper = sntwitter.TwitterSearchScraper(\"donald trump\")\n",
    "\n",
    "tweets = []\n",
    "for i,tweet in enumerate(scraper.get_items()):\n",
    "    data=[tweet.date,\n",
    "         tweet.likeCount,\n",
    "         tweet.content,\n",
    "         tweet.hashtags]\n",
    "    tweets.append(data)\n",
    "    if i>10000:\n",
    "        break\n",
    "    "
   ]
  },
  {
   "cell_type": "code",
   "execution_count": 253,
   "id": "499cf4e3",
   "metadata": {},
   "outputs": [
    {
     "data": {
      "text/html": [
       "<div>\n",
       "<style scoped>\n",
       "    .dataframe tbody tr th:only-of-type {\n",
       "        vertical-align: middle;\n",
       "    }\n",
       "\n",
       "    .dataframe tbody tr th {\n",
       "        vertical-align: top;\n",
       "    }\n",
       "\n",
       "    .dataframe thead th {\n",
       "        text-align: right;\n",
       "    }\n",
       "</style>\n",
       "<table border=\"1\" class=\"dataframe\">\n",
       "  <thead>\n",
       "    <tr style=\"text-align: right;\">\n",
       "      <th></th>\n",
       "      <th>date</th>\n",
       "      <th>likecount</th>\n",
       "      <th>content</th>\n",
       "      <th>hashtags</th>\n",
       "    </tr>\n",
       "  </thead>\n",
       "  <tbody>\n",
       "    <tr>\n",
       "      <th>0</th>\n",
       "      <td>2023-02-01 09:21:42+00:00</td>\n",
       "      <td>0</td>\n",
       "      <td>RUBBISH, IT'S ALL RUBBISH. Donny boy (Donald t...</td>\n",
       "      <td>[NRA]</td>\n",
       "    </tr>\n",
       "    <tr>\n",
       "      <th>1</th>\n",
       "      <td>2023-02-01 09:21:34+00:00</td>\n",
       "      <td>0</td>\n",
       "      <td>« People don't want fake news » Donald Trump 👏...</td>\n",
       "      <td>None</td>\n",
       "    </tr>\n",
       "    <tr>\n",
       "      <th>2</th>\n",
       "      <td>2023-02-01 09:21:28+00:00</td>\n",
       "      <td>0</td>\n",
       "      <td>Ein neues Video zeigt Donald Trump, wie er sic...</td>\n",
       "      <td>None</td>\n",
       "    </tr>\n",
       "    <tr>\n",
       "      <th>3</th>\n",
       "      <td>2023-02-01 09:21:15+00:00</td>\n",
       "      <td>0</td>\n",
       "      <td>@RonFilipkowski He has no idea what Jesus want...</td>\n",
       "      <td>None</td>\n",
       "    </tr>\n",
       "    <tr>\n",
       "      <th>4</th>\n",
       "      <td>2023-02-01 09:21:14+00:00</td>\n",
       "      <td>0</td>\n",
       "      <td>@MartyTa94849826 I'd say there are a lot more ...</td>\n",
       "      <td>None</td>\n",
       "    </tr>\n",
       "    <tr>\n",
       "      <th>...</th>\n",
       "      <td>...</td>\n",
       "      <td>...</td>\n",
       "      <td>...</td>\n",
       "      <td>...</td>\n",
       "    </tr>\n",
       "    <tr>\n",
       "      <th>9997</th>\n",
       "      <td>2023-01-31 15:31:28+00:00</td>\n",
       "      <td>123</td>\n",
       "      <td>@7Veritas4 \"Donald Trump's hush money payments...</td>\n",
       "      <td>None</td>\n",
       "    </tr>\n",
       "    <tr>\n",
       "      <th>9998</th>\n",
       "      <td>2023-01-31 15:31:23+00:00</td>\n",
       "      <td>0</td>\n",
       "      <td>This is an example of #deepstate by giving and...</td>\n",
       "      <td>[deepstate, defense, militaryindustrialcomplex...</td>\n",
       "    </tr>\n",
       "    <tr>\n",
       "      <th>9999</th>\n",
       "      <td>2023-01-31 15:31:22+00:00</td>\n",
       "      <td>3</td>\n",
       "      <td>@Angel2015939013 @RafaNietoLoaiza @JoeBiden @D...</td>\n",
       "      <td>None</td>\n",
       "    </tr>\n",
       "    <tr>\n",
       "      <th>10000</th>\n",
       "      <td>2023-01-31 15:31:20+00:00</td>\n",
       "      <td>0</td>\n",
       "      <td>@bennyjohnson What are the socialists going to...</td>\n",
       "      <td>None</td>\n",
       "    </tr>\n",
       "    <tr>\n",
       "      <th>10001</th>\n",
       "      <td>2023-01-31 15:31:20+00:00</td>\n",
       "      <td>0</td>\n",
       "      <td>@BillKristol Only your closest friends, most R...</td>\n",
       "      <td>None</td>\n",
       "    </tr>\n",
       "  </tbody>\n",
       "</table>\n",
       "<p>10002 rows × 4 columns</p>\n",
       "</div>"
      ],
      "text/plain": [
       "                           date  likecount  \\\n",
       "0     2023-02-01 09:21:42+00:00          0   \n",
       "1     2023-02-01 09:21:34+00:00          0   \n",
       "2     2023-02-01 09:21:28+00:00          0   \n",
       "3     2023-02-01 09:21:15+00:00          0   \n",
       "4     2023-02-01 09:21:14+00:00          0   \n",
       "...                         ...        ...   \n",
       "9997  2023-01-31 15:31:28+00:00        123   \n",
       "9998  2023-01-31 15:31:23+00:00          0   \n",
       "9999  2023-01-31 15:31:22+00:00          3   \n",
       "10000 2023-01-31 15:31:20+00:00          0   \n",
       "10001 2023-01-31 15:31:20+00:00          0   \n",
       "\n",
       "                                                 content  \\\n",
       "0      RUBBISH, IT'S ALL RUBBISH. Donny boy (Donald t...   \n",
       "1      « People don't want fake news » Donald Trump 👏...   \n",
       "2      Ein neues Video zeigt Donald Trump, wie er sic...   \n",
       "3      @RonFilipkowski He has no idea what Jesus want...   \n",
       "4      @MartyTa94849826 I'd say there are a lot more ...   \n",
       "...                                                  ...   \n",
       "9997   @7Veritas4 \"Donald Trump's hush money payments...   \n",
       "9998   This is an example of #deepstate by giving and...   \n",
       "9999   @Angel2015939013 @RafaNietoLoaiza @JoeBiden @D...   \n",
       "10000  @bennyjohnson What are the socialists going to...   \n",
       "10001  @BillKristol Only your closest friends, most R...   \n",
       "\n",
       "                                                hashtags  \n",
       "0                                                  [NRA]  \n",
       "1                                                   None  \n",
       "2                                                   None  \n",
       "3                                                   None  \n",
       "4                                                   None  \n",
       "...                                                  ...  \n",
       "9997                                                None  \n",
       "9998   [deepstate, defense, militaryindustrialcomplex...  \n",
       "9999                                                None  \n",
       "10000                                               None  \n",
       "10001                                               None  \n",
       "\n",
       "[10002 rows x 4 columns]"
      ]
     },
     "execution_count": 253,
     "metadata": {},
     "output_type": "execute_result"
    }
   ],
   "source": [
    "data = pd.DataFrame(tweets,columns=['date','likecount','content','hashtags'])\n",
    "data\n"
   ]
  },
  {
   "cell_type": "code",
   "execution_count": 254,
   "id": "e782ed04",
   "metadata": {},
   "outputs": [],
   "source": [
    "data.to_csv('twitter_data.csv')"
   ]
  },
  {
   "cell_type": "markdown",
   "id": "d66204e5",
   "metadata": {},
   "source": [
    "### Data set size\n",
    "Here we are taking only 10,002 data from twitter for checking and analysis of sentiment of tweets"
   ]
  },
  {
   "cell_type": "code",
   "execution_count": 255,
   "id": "0bc0a0dc",
   "metadata": {},
   "outputs": [
    {
     "name": "stdout",
     "output_type": "stream",
     "text": [
      "Total no. of data available : 10002\n"
     ]
    }
   ],
   "source": [
    "print('Total no. of data available :',len(data))"
   ]
  },
  {
   "cell_type": "markdown",
   "id": "0f5a3da0",
   "metadata": {},
   "source": [
    "# Cleaning tweet column - first round"
   ]
  },
  {
   "cell_type": "markdown",
   "id": "672a40eb",
   "metadata": {},
   "source": [
    "### Before continuing, we must first clean up the data, which contains a variety of factors.\n",
    "    1.Removing special char or symbol from text.\n",
    "    2.Removing extra space in sentence.\n",
    "    3.Converting all text into lower case.\n",
    "    4.removing duplicate data from data set."
   ]
  },
  {
   "cell_type": "code",
   "execution_count": 256,
   "id": "ca42ab33",
   "metadata": {},
   "outputs": [],
   "source": [
    "# copying new `clean_df` and cleaning up the tweets\n",
    "clean_df = data.copy()"
   ]
  },
  {
   "cell_type": "code",
   "execution_count": 257,
   "id": "849ab50a",
   "metadata": {},
   "outputs": [],
   "source": [
    "# function to clean all data\n",
    "def clean_text_round1(text):\n",
    "    '''Make text lowercase, remove text in square brackets, remove punctuation and remove words containing numbers.'''\n",
    "    # make text lowercase\n",
    "    text = text.lower()\n",
    "    # removing text within brackets\n",
    "    text = re.sub('\\[.*?\\]', '', text)\n",
    "    # removing text within parentheses\n",
    "    text = re.sub('\\(.*?\\)', '', text)\n",
    "    # removing numbers\n",
    "    text = re.sub('\\w*\\d\\w*', '', text)\n",
    "    # if there's more than 1 whitespace, then make it just 1\n",
    "    text = re.sub('\\s+', ' ', text)\n",
    "    # if there's a new line, then make it a whitespace\n",
    "    text = re.sub('\\n', ' ', text)\n",
    "    # removing any quotes\n",
    "    text = re.sub('\\\"+', '', text)\n",
    "    # removing &amp;\n",
    "    text = re.sub('(\\&amp\\;)', '', text)\n",
    "    # removing any usernames\n",
    "    text = re.sub('(@[^\\s]+)', '', text)\n",
    "    # removing any hashtags\n",
    "    text = re.sub('(#[^\\s]+)', '', text)\n",
    "    # remove `rt` for retweet\n",
    "    text = re.sub('(rt)', '', text)\n",
    "    # string.punctuation is a string of all punctuation marks\n",
    "    # so this gets rid of all punctuation\n",
    "    text = re.sub('[%s]' % re.escape(string.punctuation), '', text)\n",
    "    # getting rid of `httptco`\n",
    "    text = re.sub('(httpstco)', '', text)\n",
    "    text = re.sub('(donald)', '', text)\n",
    "    text = re.sub('(trump)', '', text)\n",
    "    text = re.sub('(president)', '', text)\n",
    "    text = re.sub('[^0-9A-Za-z\\-]+',' ',text)\n",
    "    return text\n",
    "\n",
    "round1 = lambda x: clean_text_round1(x)"
   ]
  },
  {
   "cell_type": "code",
   "execution_count": 258,
   "id": "a78fafae",
   "metadata": {},
   "outputs": [],
   "source": [
    "# appling data cleaning function to `tweet` column\n",
    "clean_df['clean_tweets'] = clean_df['content'].apply(round1)"
   ]
  },
  {
   "cell_type": "code",
   "execution_count": 259,
   "id": "0d3fbbd6",
   "metadata": {},
   "outputs": [
    {
     "data": {
      "text/html": [
       "<div>\n",
       "<style scoped>\n",
       "    .dataframe tbody tr th:only-of-type {\n",
       "        vertical-align: middle;\n",
       "    }\n",
       "\n",
       "    .dataframe tbody tr th {\n",
       "        vertical-align: top;\n",
       "    }\n",
       "\n",
       "    .dataframe thead th {\n",
       "        text-align: right;\n",
       "    }\n",
       "</style>\n",
       "<table border=\"1\" class=\"dataframe\">\n",
       "  <thead>\n",
       "    <tr style=\"text-align: right;\">\n",
       "      <th></th>\n",
       "      <th>date</th>\n",
       "      <th>likecount</th>\n",
       "      <th>content</th>\n",
       "      <th>hashtags</th>\n",
       "      <th>clean_tweets</th>\n",
       "    </tr>\n",
       "  </thead>\n",
       "  <tbody>\n",
       "    <tr>\n",
       "      <th>0</th>\n",
       "      <td>2023-02-01 09:21:42+00:00</td>\n",
       "      <td>0</td>\n",
       "      <td>RUBBISH, IT'S ALL RUBBISH. Donny boy (Donald t...</td>\n",
       "      <td>[NRA]</td>\n",
       "      <td>rubbish rubbish donny boy probably overlord</td>\n",
       "    </tr>\n",
       "    <tr>\n",
       "      <th>1</th>\n",
       "      <td>2023-02-01 09:21:34+00:00</td>\n",
       "      <td>0</td>\n",
       "      <td>« People don't want fake news » Donald Trump 👏...</td>\n",
       "      <td>None</td>\n",
       "      <td>people dont want fake news</td>\n",
       "    </tr>\n",
       "    <tr>\n",
       "      <th>2</th>\n",
       "      <td>2023-02-01 09:21:28+00:00</td>\n",
       "      <td>0</td>\n",
       "      <td>Ein neues Video zeigt Donald Trump, wie er sic...</td>\n",
       "      <td>None</td>\n",
       "      <td>ein neues video zeigt wie er sich weige fragen...</td>\n",
       "    </tr>\n",
       "    <tr>\n",
       "      <th>3</th>\n",
       "      <td>2023-02-01 09:21:15+00:00</td>\n",
       "      <td>0</td>\n",
       "      <td>@RonFilipkowski He has no idea what Jesus want...</td>\n",
       "      <td>None</td>\n",
       "      <td>idea jesus wants sure hell isnt unless hes tal...</td>\n",
       "    </tr>\n",
       "    <tr>\n",
       "      <th>4</th>\n",
       "      <td>2023-02-01 09:21:14+00:00</td>\n",
       "      <td>0</td>\n",
       "      <td>@MartyTa94849826 I'd say there are a lot more ...</td>\n",
       "      <td>None</td>\n",
       "      <td>id say lot people deserving indictment</td>\n",
       "    </tr>\n",
       "    <tr>\n",
       "      <th>...</th>\n",
       "      <td>...</td>\n",
       "      <td>...</td>\n",
       "      <td>...</td>\n",
       "      <td>...</td>\n",
       "      <td>...</td>\n",
       "    </tr>\n",
       "    <tr>\n",
       "      <th>9997</th>\n",
       "      <td>2023-01-31 15:31:28+00:00</td>\n",
       "      <td>123</td>\n",
       "      <td>@7Veritas4 \"Donald Trump's hush money payments...</td>\n",
       "      <td>None</td>\n",
       "      <td>hush money payments stormy daniels effos bill ...</td>\n",
       "    </tr>\n",
       "    <tr>\n",
       "      <th>9998</th>\n",
       "      <td>2023-01-31 15:31:23+00:00</td>\n",
       "      <td>0</td>\n",
       "      <td>This is an example of #deepstate by giving and...</td>\n",
       "      <td>[deepstate, defense, militaryindustrialcomplex...</td>\n",
       "      <td>example giving money ie clearly gets paybacks ...</td>\n",
       "    </tr>\n",
       "    <tr>\n",
       "      <th>9999</th>\n",
       "      <td>2023-01-31 15:31:22+00:00</td>\n",
       "      <td>3</td>\n",
       "      <td>@Angel2015939013 @RafaNietoLoaiza @JoeBiden @D...</td>\n",
       "      <td>None</td>\n",
       "      <td>eso es e es un bandido mas que defiende la vio...</td>\n",
       "    </tr>\n",
       "    <tr>\n",
       "      <th>10000</th>\n",
       "      <td>2023-01-31 15:31:20+00:00</td>\n",
       "      <td>0</td>\n",
       "      <td>@bennyjohnson What are the socialists going to...</td>\n",
       "      <td>None</td>\n",
       "      <td>socialists going use prevent getting back w h</td>\n",
       "    </tr>\n",
       "    <tr>\n",
       "      <th>10001</th>\n",
       "      <td>2023-01-31 15:31:20+00:00</td>\n",
       "      <td>0</td>\n",
       "      <td>@BillKristol Only your closest friends, most R...</td>\n",
       "      <td>None</td>\n",
       "      <td>closest friends republicans live outside beltw...</td>\n",
       "    </tr>\n",
       "  </tbody>\n",
       "</table>\n",
       "<p>10002 rows × 5 columns</p>\n",
       "</div>"
      ],
      "text/plain": [
       "                           date  likecount  \\\n",
       "0     2023-02-01 09:21:42+00:00          0   \n",
       "1     2023-02-01 09:21:34+00:00          0   \n",
       "2     2023-02-01 09:21:28+00:00          0   \n",
       "3     2023-02-01 09:21:15+00:00          0   \n",
       "4     2023-02-01 09:21:14+00:00          0   \n",
       "...                         ...        ...   \n",
       "9997  2023-01-31 15:31:28+00:00        123   \n",
       "9998  2023-01-31 15:31:23+00:00          0   \n",
       "9999  2023-01-31 15:31:22+00:00          3   \n",
       "10000 2023-01-31 15:31:20+00:00          0   \n",
       "10001 2023-01-31 15:31:20+00:00          0   \n",
       "\n",
       "                                                 content  \\\n",
       "0      RUBBISH, IT'S ALL RUBBISH. Donny boy (Donald t...   \n",
       "1      « People don't want fake news » Donald Trump 👏...   \n",
       "2      Ein neues Video zeigt Donald Trump, wie er sic...   \n",
       "3      @RonFilipkowski He has no idea what Jesus want...   \n",
       "4      @MartyTa94849826 I'd say there are a lot more ...   \n",
       "...                                                  ...   \n",
       "9997   @7Veritas4 \"Donald Trump's hush money payments...   \n",
       "9998   This is an example of #deepstate by giving and...   \n",
       "9999   @Angel2015939013 @RafaNietoLoaiza @JoeBiden @D...   \n",
       "10000  @bennyjohnson What are the socialists going to...   \n",
       "10001  @BillKristol Only your closest friends, most R...   \n",
       "\n",
       "                                                hashtags  \\\n",
       "0                                                  [NRA]   \n",
       "1                                                   None   \n",
       "2                                                   None   \n",
       "3                                                   None   \n",
       "4                                                   None   \n",
       "...                                                  ...   \n",
       "9997                                                None   \n",
       "9998   [deepstate, defense, militaryindustrialcomplex...   \n",
       "9999                                                None   \n",
       "10000                                               None   \n",
       "10001                                               None   \n",
       "\n",
       "                                            clean_tweets  \n",
       "0            rubbish rubbish donny boy probably overlord  \n",
       "1                             people dont want fake news  \n",
       "2      ein neues video zeigt wie er sich weige fragen...  \n",
       "3      idea jesus wants sure hell isnt unless hes tal...  \n",
       "4                 id say lot people deserving indictment  \n",
       "...                                                  ...  \n",
       "9997   hush money payments stormy daniels effos bill ...  \n",
       "9998   example giving money ie clearly gets paybacks ...  \n",
       "9999   eso es e es un bandido mas que defiende la vio...  \n",
       "10000      socialists going use prevent getting back w h  \n",
       "10001  closest friends republicans live outside beltw...  \n",
       "\n",
       "[10002 rows x 5 columns]"
      ]
     },
     "execution_count": 259,
     "metadata": {},
     "output_type": "execute_result"
    }
   ],
   "source": [
    "from nltk.corpus import stopwords\n",
    "stop = stopwords.words('english')\n",
    "\n",
    "# Exclude stopwords with Python's list comprehension and pandas.DataFrame.apply.\n",
    "clean_df['clean_tweets'] = clean_df['clean_tweets'].apply(lambda x: ' '.join([word for word in x.split() if word not in (stop)]))\n",
    "clean_df"
   ]
  },
  {
   "cell_type": "code",
   "execution_count": 260,
   "id": "4c08d059",
   "metadata": {},
   "outputs": [],
   "source": [
    "clean_df = clean_df.drop_duplicates('content')"
   ]
  },
  {
   "cell_type": "code",
   "execution_count": 261,
   "id": "abf5b703",
   "metadata": {},
   "outputs": [
    {
     "data": {
      "text/html": [
       "<div>\n",
       "<style scoped>\n",
       "    .dataframe tbody tr th:only-of-type {\n",
       "        vertical-align: middle;\n",
       "    }\n",
       "\n",
       "    .dataframe tbody tr th {\n",
       "        vertical-align: top;\n",
       "    }\n",
       "\n",
       "    .dataframe thead th {\n",
       "        text-align: right;\n",
       "    }\n",
       "</style>\n",
       "<table border=\"1\" class=\"dataframe\">\n",
       "  <thead>\n",
       "    <tr style=\"text-align: right;\">\n",
       "      <th></th>\n",
       "      <th>date</th>\n",
       "      <th>likecount</th>\n",
       "      <th>content</th>\n",
       "      <th>hashtags</th>\n",
       "      <th>clean_tweets</th>\n",
       "    </tr>\n",
       "  </thead>\n",
       "  <tbody>\n",
       "    <tr>\n",
       "      <th>0</th>\n",
       "      <td>2023-02-01 09:21:42+00:00</td>\n",
       "      <td>0</td>\n",
       "      <td>RUBBISH, IT'S ALL RUBBISH. Donny boy (Donald t...</td>\n",
       "      <td>[NRA]</td>\n",
       "      <td>rubbish rubbish donny boy probably overlord</td>\n",
       "    </tr>\n",
       "    <tr>\n",
       "      <th>1</th>\n",
       "      <td>2023-02-01 09:21:34+00:00</td>\n",
       "      <td>0</td>\n",
       "      <td>« People don't want fake news » Donald Trump 👏...</td>\n",
       "      <td>None</td>\n",
       "      <td>people dont want fake news</td>\n",
       "    </tr>\n",
       "    <tr>\n",
       "      <th>2</th>\n",
       "      <td>2023-02-01 09:21:28+00:00</td>\n",
       "      <td>0</td>\n",
       "      <td>Ein neues Video zeigt Donald Trump, wie er sic...</td>\n",
       "      <td>None</td>\n",
       "      <td>ein neues video zeigt wie er sich weige fragen...</td>\n",
       "    </tr>\n",
       "    <tr>\n",
       "      <th>3</th>\n",
       "      <td>2023-02-01 09:21:15+00:00</td>\n",
       "      <td>0</td>\n",
       "      <td>@RonFilipkowski He has no idea what Jesus want...</td>\n",
       "      <td>None</td>\n",
       "      <td>idea jesus wants sure hell isnt unless hes tal...</td>\n",
       "    </tr>\n",
       "    <tr>\n",
       "      <th>4</th>\n",
       "      <td>2023-02-01 09:21:14+00:00</td>\n",
       "      <td>0</td>\n",
       "      <td>@MartyTa94849826 I'd say there are a lot more ...</td>\n",
       "      <td>None</td>\n",
       "      <td>id say lot people deserving indictment</td>\n",
       "    </tr>\n",
       "  </tbody>\n",
       "</table>\n",
       "</div>"
      ],
      "text/plain": [
       "                       date  likecount  \\\n",
       "0 2023-02-01 09:21:42+00:00          0   \n",
       "1 2023-02-01 09:21:34+00:00          0   \n",
       "2 2023-02-01 09:21:28+00:00          0   \n",
       "3 2023-02-01 09:21:15+00:00          0   \n",
       "4 2023-02-01 09:21:14+00:00          0   \n",
       "\n",
       "                                             content hashtags  \\\n",
       "0  RUBBISH, IT'S ALL RUBBISH. Donny boy (Donald t...    [NRA]   \n",
       "1  « People don't want fake news » Donald Trump 👏...     None   \n",
       "2  Ein neues Video zeigt Donald Trump, wie er sic...     None   \n",
       "3  @RonFilipkowski He has no idea what Jesus want...     None   \n",
       "4  @MartyTa94849826 I'd say there are a lot more ...     None   \n",
       "\n",
       "                                        clean_tweets  \n",
       "0        rubbish rubbish donny boy probably overlord  \n",
       "1                         people dont want fake news  \n",
       "2  ein neues video zeigt wie er sich weige fragen...  \n",
       "3  idea jesus wants sure hell isnt unless hes tal...  \n",
       "4             id say lot people deserving indictment  "
      ]
     },
     "execution_count": 261,
     "metadata": {},
     "output_type": "execute_result"
    }
   ],
   "source": [
    "# checking that it worked\n",
    "clean_df.head()"
   ]
  },
  {
   "cell_type": "code",
   "execution_count": null,
   "id": "33fc0ce5",
   "metadata": {},
   "outputs": [],
   "source": [
    "# checking for missing values\n",
    "clean_df.isnull().sum()"
   ]
  },
  {
   "cell_type": "markdown",
   "id": "aad2f17b",
   "metadata": {},
   "source": [
    "# Sentiment Analysis with TextBlob\n",
    "\n",
    "TextBlob is a python library used for processing textual data, including sentiment analysis. It provides a simple API for diving into common NLP tasks such as sentiment analysis, part-of-speech tagging, noun phrase extraction, translation, and more.\n",
    "\n",
    "The sentiment property of TextBlob objects returns a namedtuple of the form (polarity, subjectivity), where polarity is a float between -1 and 1, representing the sentiment of the text **(-1 is negative, 0 is neutral, and 1 is positive)**, and subjectivity is a float between 0 and 1, representing the subjectivity of the text (0 is objective, and 1 is subjective). **To use TextBlob for sentiment analysis, simply create a TextBlob object and call its sentiment property.**"
   ]
  },
  {
   "cell_type": "code",
   "execution_count": 262,
   "id": "dcab5fab",
   "metadata": {},
   "outputs": [],
   "source": [
    "clean_df['Polarity']=[TextBlob(i).sentiment.polarity for i in clean_df['clean_tweets']]"
   ]
  },
  {
   "cell_type": "code",
   "execution_count": 263,
   "id": "842de9b6",
   "metadata": {},
   "outputs": [],
   "source": [
    "def senti(x):\n",
    "    if x<0:\n",
    "        return 0 # negative\n",
    "    elif  x ==0:\n",
    "        return 2 # neutral\n",
    "    else:\n",
    "        return 1 # 'positive'\n",
    "\n",
    "clean_df['class'] = clean_df['Polarity'].apply(senti)"
   ]
  },
  {
   "cell_type": "code",
   "execution_count": 264,
   "id": "d5185e40",
   "metadata": {},
   "outputs": [
    {
     "data": {
      "text/html": [
       "<div>\n",
       "<style scoped>\n",
       "    .dataframe tbody tr th:only-of-type {\n",
       "        vertical-align: middle;\n",
       "    }\n",
       "\n",
       "    .dataframe tbody tr th {\n",
       "        vertical-align: top;\n",
       "    }\n",
       "\n",
       "    .dataframe thead th {\n",
       "        text-align: right;\n",
       "    }\n",
       "</style>\n",
       "<table border=\"1\" class=\"dataframe\">\n",
       "  <thead>\n",
       "    <tr style=\"text-align: right;\">\n",
       "      <th></th>\n",
       "      <th>date</th>\n",
       "      <th>likecount</th>\n",
       "      <th>content</th>\n",
       "      <th>hashtags</th>\n",
       "      <th>clean_tweets</th>\n",
       "      <th>Polarity</th>\n",
       "      <th>class</th>\n",
       "    </tr>\n",
       "  </thead>\n",
       "  <tbody>\n",
       "    <tr>\n",
       "      <th>0</th>\n",
       "      <td>2023-02-01 09:21:42+00:00</td>\n",
       "      <td>0</td>\n",
       "      <td>RUBBISH, IT'S ALL RUBBISH. Donny boy (Donald t...</td>\n",
       "      <td>[NRA]</td>\n",
       "      <td>rubbish rubbish donny boy probably overlord</td>\n",
       "      <td>0.000000</td>\n",
       "      <td>2</td>\n",
       "    </tr>\n",
       "    <tr>\n",
       "      <th>1</th>\n",
       "      <td>2023-02-01 09:21:34+00:00</td>\n",
       "      <td>0</td>\n",
       "      <td>« People don't want fake news » Donald Trump 👏...</td>\n",
       "      <td>None</td>\n",
       "      <td>people dont want fake news</td>\n",
       "      <td>-0.500000</td>\n",
       "      <td>0</td>\n",
       "    </tr>\n",
       "    <tr>\n",
       "      <th>2</th>\n",
       "      <td>2023-02-01 09:21:28+00:00</td>\n",
       "      <td>0</td>\n",
       "      <td>Ein neues Video zeigt Donald Trump, wie er sic...</td>\n",
       "      <td>None</td>\n",
       "      <td>ein neues video zeigt wie er sich weige fragen...</td>\n",
       "      <td>0.136364</td>\n",
       "      <td>1</td>\n",
       "    </tr>\n",
       "    <tr>\n",
       "      <th>3</th>\n",
       "      <td>2023-02-01 09:21:15+00:00</td>\n",
       "      <td>0</td>\n",
       "      <td>@RonFilipkowski He has no idea what Jesus want...</td>\n",
       "      <td>None</td>\n",
       "      <td>idea jesus wants sure hell isnt unless hes tal...</td>\n",
       "      <td>0.350000</td>\n",
       "      <td>1</td>\n",
       "    </tr>\n",
       "    <tr>\n",
       "      <th>4</th>\n",
       "      <td>2023-02-01 09:21:14+00:00</td>\n",
       "      <td>0</td>\n",
       "      <td>@MartyTa94849826 I'd say there are a lot more ...</td>\n",
       "      <td>None</td>\n",
       "      <td>id say lot people deserving indictment</td>\n",
       "      <td>0.600000</td>\n",
       "      <td>1</td>\n",
       "    </tr>\n",
       "  </tbody>\n",
       "</table>\n",
       "</div>"
      ],
      "text/plain": [
       "                       date  likecount  \\\n",
       "0 2023-02-01 09:21:42+00:00          0   \n",
       "1 2023-02-01 09:21:34+00:00          0   \n",
       "2 2023-02-01 09:21:28+00:00          0   \n",
       "3 2023-02-01 09:21:15+00:00          0   \n",
       "4 2023-02-01 09:21:14+00:00          0   \n",
       "\n",
       "                                             content hashtags  \\\n",
       "0  RUBBISH, IT'S ALL RUBBISH. Donny boy (Donald t...    [NRA]   \n",
       "1  « People don't want fake news » Donald Trump 👏...     None   \n",
       "2  Ein neues Video zeigt Donald Trump, wie er sic...     None   \n",
       "3  @RonFilipkowski He has no idea what Jesus want...     None   \n",
       "4  @MartyTa94849826 I'd say there are a lot more ...     None   \n",
       "\n",
       "                                        clean_tweets  Polarity  class  \n",
       "0        rubbish rubbish donny boy probably overlord  0.000000      2  \n",
       "1                         people dont want fake news -0.500000      0  \n",
       "2  ein neues video zeigt wie er sich weige fragen...  0.136364      1  \n",
       "3  idea jesus wants sure hell isnt unless hes tal...  0.350000      1  \n",
       "4             id say lot people deserving indictment  0.600000      1  "
      ]
     },
     "execution_count": 264,
     "metadata": {},
     "output_type": "execute_result"
    }
   ],
   "source": [
    "clean_df.head()"
   ]
  },
  {
   "cell_type": "code",
   "execution_count": 265,
   "id": "be247ef7",
   "metadata": {},
   "outputs": [
    {
     "data": {
      "text/plain": [
       "array([2, 0, 1], dtype=int64)"
      ]
     },
     "execution_count": 265,
     "metadata": {},
     "output_type": "execute_result"
    }
   ],
   "source": [
    "clean_df['class'].unique()"
   ]
  },
  {
   "cell_type": "markdown",
   "id": "c9656f9a",
   "metadata": {},
   "source": [
    "## Checking Class Imbalance of Original Data's Labels\n",
    "\n",
    "    Here class is divided in 3 category.\n",
    "   **0 - Negative sentiment\\\n",
    "     1 - Positive sentiment\\\n",
    "     2 - Neutral sentiment**"
   ]
  },
  {
   "cell_type": "code",
   "execution_count": 266,
   "id": "563f8091",
   "metadata": {},
   "outputs": [
    {
     "data": {
      "image/png": "[encoded data removed]",
      "text/plain": [
       "<Figure size 1080x504 with 2 Axes>"
      ]
     },
     "metadata": {
      "needs_background": "light"
     },
     "output_type": "display_data"
    }
   ],
   "source": [
    "fig, ax = plt.subplots(1, 2, figsize = (15, 7))\n",
    "ax[0].set_title(\"Distribution of Class\")              \n",
    "percentage = clean_df[\"class\"].value_counts()         \n",
    "labels = list(clean_df[\"class\"].value_counts().index) \n",
    "colors = ['#ff9999','#66b3ff','#66ffd9']\n",
    "ab=sns.countplot(x = clean_df[\"class\"], ax = ax[0],palette='cool')\n",
    "for p in ab.patches:\n",
    "    ab.annotate('{:.1f}'.format(p.get_height()), (p.get_x()+0.30, p.get_height()+0.02))\n",
    "plt.pie(percentage,labels = labels ,explode=[0.1,0,0.1],autopct= \"%0.2f%%\",shadow=True,colors=colors)\n",
    "plt.legend()\n",
    "plt.show()"
   ]
  },
  {
   "cell_type": "code",
   "execution_count": 267,
   "id": "7b50f7c0",
   "metadata": {},
   "outputs": [
    {
     "data": {
      "text/plain": [
       "<AxesSubplot:xlabel='Polarity', ylabel='Density'>"
      ]
     },
     "execution_count": 267,
     "metadata": {},
     "output_type": "execute_result"
    },
    {
     "data": {
      "image/png": "[encoded data removed]",
      "text/plain": [
       "<Figure size 1080x360 with 1 Axes>"
      ]
     },
     "metadata": {
      "needs_background": "light"
     },
     "output_type": "display_data"
    }
   ],
   "source": [
    "plt.figure(figsize=(15,5))\n",
    "sns.kdeplot(x='Polarity',data=clean_df)"
   ]
  },
  {
   "cell_type": "markdown",
   "id": "dc2d5633",
   "metadata": {},
   "source": [
    "## Creating new column `label` for hate speech binary\n",
    "\n",
    "In the original data, the `class` column identifies each tweet as 0 for hate speech, 1 for offensive language or 2 for neither. \n",
    "\n",
    "We will be changing offensive language to 2, and identifying that all to 0 for **not hate speech**. And changing hate specch to 1."
   ]
  },
  {
   "cell_type": "code",
   "execution_count": 268,
   "id": "01c168df",
   "metadata": {},
   "outputs": [],
   "source": [
    "clean_df['label'] = clean_df['class'].replace(1, 2)"
   ]
  },
  {
   "cell_type": "code",
   "execution_count": 269,
   "id": "8d0a3cb8",
   "metadata": {},
   "outputs": [
    {
     "data": {
      "text/plain": [
       "array([2, 0], dtype=int64)"
      ]
     },
     "execution_count": 269,
     "metadata": {},
     "output_type": "execute_result"
    }
   ],
   "source": [
    "clean_df.label.unique()"
   ]
  },
  {
   "cell_type": "markdown",
   "id": "73d002ed",
   "metadata": {},
   "source": [
    "### changing hate speech to 1 and not hate speech to 0"
   ]
  },
  {
   "cell_type": "code",
   "execution_count": 270,
   "id": "69b41913",
   "metadata": {},
   "outputs": [],
   "source": [
    "# changing hate speech to 1 and not hate speech to 0\n",
    "clean_df['label'] = clean_df['label'].replace(0, 1)\n",
    "clean_df['label'] = clean_df['label'].replace(2, 0)"
   ]
  },
  {
   "cell_type": "code",
   "execution_count": 271,
   "id": "61fe8c51",
   "metadata": {},
   "outputs": [
    {
     "data": {
      "text/plain": [
       "array([0, 1], dtype=int64)"
      ]
     },
     "execution_count": 271,
     "metadata": {},
     "output_type": "execute_result"
    }
   ],
   "source": [
    "clean_df.label.unique()"
   ]
  },
  {
   "cell_type": "code",
   "execution_count": 272,
   "id": "b57fa492",
   "metadata": {},
   "outputs": [
    {
     "data": {
      "image/png": "[encoded data removed]",
      "text/plain": [
       "<Figure size 720x360 with 1 Axes>"
      ]
     },
     "metadata": {
      "needs_background": "light"
     },
     "output_type": "display_data"
    }
   ],
   "source": [
    "plt.figure(figsize = (10,5))\n",
    "ax = sns.countplot(clean_df['label'], palette='cool')\n",
    "\n",
    "ax.set_title('Amount of Tweets Per Label',fontsize = 20)\n",
    "ax.set_xlabel('Type of Tweet',fontsize = 15)\n",
    "ax.set_ylabel('Count',fontsize = 15)\n",
    "ax.set_xticklabels(['Not Hate Speech','Hate Speech'],fontsize = 13)\n",
    "\n",
    "total = float(len(clean_df)) # one person per row \n",
    "for p in ax.patches:\n",
    "    height = p.get_height()\n",
    "    ax.text(p.get_x()+p.get_width()/2.,\n",
    "            height + 3,\n",
    "            '{:1.2f}'.format(height/total * 100) + '%',\n",
    "            ha=\"center\") \n"
   ]
  },
  {
   "cell_type": "code",
   "execution_count": 273,
   "id": "e93cc77b",
   "metadata": {},
   "outputs": [
    {
     "data": {
      "text/plain": [
       "0.23704914682742415"
      ]
     },
     "execution_count": 273,
     "metadata": {},
     "output_type": "execute_result"
    }
   ],
   "source": [
    "# we can see that only 23.70% of the data is actual hate speech\n",
    "clean_df['label'].sum() / len(clean_df['label'])"
   ]
  },
  {
   "cell_type": "code",
   "execution_count": 274,
   "id": "caa5bcd1",
   "metadata": {},
   "outputs": [
    {
     "data": {
      "text/plain": [
       "<matplotlib.legend.Legend at 0x1b5037fca30>"
      ]
     },
     "execution_count": 274,
     "metadata": {},
     "output_type": "execute_result"
    },
    {
     "data": {
      "image/png": "[encoded data removed]",
      "text/plain": [
       "<Figure size 864x360 with 1 Axes>"
      ]
     },
     "metadata": {
      "needs_background": "light"
     },
     "output_type": "display_data"
    }
   ],
   "source": [
    "# creating density plot for each label's polarity scores\n",
    "plt.figure(figsize=(12, 5))\n",
    "ax = sns.distplot(clean_df['Polarity'][clean_df['label'] == 0], label='Not Hate Speech', color='green')\n",
    "ax = sns.distplot(clean_df['Polarity'][clean_df['label'] == 1], label='Hate Speech', color='red')\n",
    "# setting label, title and legend\n",
    "ax.set_title('Polarity of All Tweets', fontsize=20)\n",
    "ax.set_ylabel('density', fontsize=16)\n",
    "ax.set_xlabel('Polarity Score', fontsize=16)\n",
    "ax.legend(prop=dict(size=14))"
   ]
  },
  {
   "cell_type": "markdown",
   "id": "3b763d6e",
   "metadata": {},
   "source": [
    "From this denisty plot, we can see that a majoirty of tweets in both classifications rank a fairly neutral. This doesn't seem accurate, and could be attributated to TextBlob's inability to score social media sentiment."
   ]
  },
  {
   "cell_type": "markdown",
   "id": "94171f90",
   "metadata": {},
   "source": [
    "## Most Frequent Words for Each Classification"
   ]
  },
  {
   "cell_type": "code",
   "execution_count": 275,
   "id": "82c7f5e3",
   "metadata": {},
   "outputs": [],
   "source": [
    "# creating new dfs for each classification\n",
    "df_freq_hate = clean_df[clean_df['label']==1]\n",
    "df_freq_not_hate = clean_df[clean_df['label']==0]"
   ]
  },
  {
   "cell_type": "code",
   "execution_count": 276,
   "id": "5bc518e0",
   "metadata": {},
   "outputs": [],
   "source": [
    "# pulling out the text data for cleaned tweets\n",
    "data_hate = df_freq_hate['clean_tweets']\n",
    "data_not_hate = df_freq_not_hate['clean_tweets']"
   ]
  },
  {
   "cell_type": "markdown",
   "id": "c94a49b2",
   "metadata": {},
   "source": [
    "## Tokenizing & Removing Stop Words\n",
    "\n",
    "When working with text data, one of the first steps is to remove stop words from the corpus. Although text would be gramatically incorrect without these stop words, they provide little value to models and typically hinder performace.\n",
    "\n",
    "We can use NLTK's built-in library of stop words to remove them in a tokenizing function."
   ]
  },
  {
   "cell_type": "code",
   "execution_count": 277,
   "id": "e195dcb7",
   "metadata": {},
   "outputs": [],
   "source": [
    "# function to tokenize tweets and remove stop words with NLTK built-in library\n",
    "stop_words = set(stopwords.words('english'))\n",
    "def process_tweet(text):\n",
    "    tokens = nltk.word_tokenize(text)\n",
    "    stopwords_removed = [token.lower() for token in tokens if token.lower() not in stop_words]\n",
    "    return stopwords_removed "
   ]
  },
  {
   "cell_type": "code",
   "execution_count": 278,
   "id": "b428a0a1",
   "metadata": {},
   "outputs": [],
   "source": [
    "# creating lists for processed hate & not hate data\n",
    "process_hate = list(map(process_tweet, data_hate))\n",
    "process_not_hate = list(map(process_tweet, data_not_hate))"
   ]
  },
  {
   "cell_type": "code",
   "execution_count": 279,
   "id": "30449f21",
   "metadata": {},
   "outputs": [
    {
     "data": {
      "text/plain": [
       "6913"
      ]
     },
     "execution_count": 279,
     "metadata": {},
     "output_type": "execute_result"
    }
   ],
   "source": [
    "# exact amount of hate speech\n",
    "total_vocab_hate = set()\n",
    "for comment in process_hate:\n",
    "    total_vocab_hate.update(comment)\n",
    "len(total_vocab_hate)"
   ]
  },
  {
   "cell_type": "code",
   "execution_count": 280,
   "id": "9d8a257a",
   "metadata": {},
   "outputs": [
    {
     "data": {
      "text/plain": [
       "15127"
      ]
     },
     "execution_count": 280,
     "metadata": {},
     "output_type": "execute_result"
    }
   ],
   "source": [
    "# exact amount of not hate speech\n",
    "total_vocab_NOT_hate = set()\n",
    "for comment in process_not_hate:\n",
    "    total_vocab_NOT_hate.update(comment)\n",
    "len(total_vocab_NOT_hate)"
   ]
  },
  {
   "cell_type": "markdown",
   "id": "6c5b2235",
   "metadata": {},
   "source": [
    "# Most Common Words in Each Category"
   ]
  },
  {
   "cell_type": "code",
   "execution_count": 281,
   "id": "51efdb23",
   "metadata": {},
   "outputs": [],
   "source": [
    "flat_hate = [item for sublist in process_hate for item in sublist]\n",
    "flat_not_hate = [item for sublist in process_not_hate for item in sublist]"
   ]
  },
  {
   "cell_type": "code",
   "execution_count": 282,
   "id": "1b2fa521",
   "metadata": {},
   "outputs": [],
   "source": [
    "hate_freq = FreqDist(flat_hate)\n",
    "not_hate_freq = FreqDist(flat_not_hate)"
   ]
  },
  {
   "cell_type": "code",
   "execution_count": 283,
   "id": "fcab7e48",
   "metadata": {},
   "outputs": [
    {
     "data": {
      "text/plain": [
       "[('people', 214),\n",
       " ('random', 200),\n",
       " ('like', 182),\n",
       " ('criminal', 154),\n",
       " ('would', 128),\n",
       " ('biden', 122),\n",
       " ('new', 121),\n",
       " ('fifth', 115),\n",
       " ('one', 113),\n",
       " ('know', 108),\n",
       " ('said', 105),\n",
       " ('us', 99),\n",
       " ('former', 97),\n",
       " ('never', 97),\n",
       " ('get', 94),\n",
       " ('bad', 94),\n",
       " ('news', 92),\n",
       " ('time', 90),\n",
       " ('guilty', 89),\n",
       " ('york', 84),\n",
       " ('man', 82),\n",
       " ('read', 77),\n",
       " ('via', 77),\n",
       " ('going', 77),\n",
       " ('jail', 75),\n",
       " ('years', 74),\n",
       " ('wrong', 73),\n",
       " ('election', 73),\n",
       " ('see', 72),\n",
       " ('think', 71),\n",
       " ('fraud', 71),\n",
       " ('thing', 70),\n",
       " ('suppo', 70),\n",
       " ('times', 69),\n",
       " ('desantis', 69),\n",
       " ('fake', 68),\n",
       " ('joe', 68),\n",
       " ('even', 67),\n",
       " ('putin', 67),\n",
       " ('white', 67),\n",
       " ('hate', 66),\n",
       " ('republican', 66),\n",
       " ('media', 66),\n",
       " ('take', 66),\n",
       " ('america', 66),\n",
       " ('dont', 65),\n",
       " ('go', 64),\n",
       " ('worst', 63),\n",
       " ('black', 61),\n",
       " ('could', 60),\n",
       " ('still', 60),\n",
       " ('smanews', 60),\n",
       " ('want', 59),\n",
       " ('ever', 59),\n",
       " ('pay', 58),\n",
       " ('truth', 58),\n",
       " ('hes', 58),\n",
       " ('history', 57),\n",
       " ('republicans', 55),\n",
       " ('amendment', 55),\n",
       " ('every', 54),\n",
       " ('american', 54),\n",
       " ('false', 54),\n",
       " ('says', 53),\n",
       " ('campaign', 53),\n",
       " ('corrupt', 53),\n",
       " ('gop', 53),\n",
       " ('way', 52),\n",
       " ('need', 52),\n",
       " ('money', 51),\n",
       " ('stormy', 51),\n",
       " ('killed', 50),\n",
       " ('daniels', 50),\n",
       " ('probe', 50),\n",
       " ('look', 49),\n",
       " ('back', 49),\n",
       " ('also', 49),\n",
       " ('say', 48),\n",
       " ('shit', 48),\n",
       " ('ron', 48),\n",
       " ('believe', 47),\n",
       " ('democrats', 47),\n",
       " ('im', 46),\n",
       " ('anything', 45),\n",
       " ('real', 44),\n",
       " ('mean', 44),\n",
       " ('pleads', 44),\n",
       " ('another', 43),\n",
       " ('long', 43),\n",
       " ('country', 43),\n",
       " ('unfair', 43),\n",
       " ('fuck', 42),\n",
       " ('justice', 42),\n",
       " ('right', 41),\n",
       " ('little', 41),\n",
       " ('anyone', 41),\n",
       " ('house', 41),\n",
       " ('day', 40),\n",
       " ('let', 40),\n",
       " ('whole', 40)]"
      ]
     },
     "execution_count": 283,
     "metadata": {},
     "output_type": "execute_result"
    }
   ],
   "source": [
    "# Top 20 Hate Speech words:\n",
    "hate_freq.most_common(100)"
   ]
  },
  {
   "cell_type": "code",
   "execution_count": 284,
   "id": "46e0e167",
   "metadata": {},
   "outputs": [
    {
     "data": {
      "text/plain": [
       "[('de', 500),\n",
       " ('new', 466),\n",
       " ('fifth', 463),\n",
       " ('like', 455),\n",
       " ('would', 437),\n",
       " ('former', 397),\n",
       " ('people', 348),\n",
       " ('biden', 327),\n",
       " ('desantis', 314),\n",
       " ('one', 311),\n",
       " ('us', 297),\n",
       " ('amendment', 270),\n",
       " ('la', 254),\n",
       " ('via', 249),\n",
       " ('deposition', 243),\n",
       " ('que', 238),\n",
       " ('york', 236),\n",
       " ('know', 232),\n",
       " ('get', 232),\n",
       " ('video', 220),\n",
       " ('times', 214),\n",
       " ('stormy', 207),\n",
       " ('america', 204),\n",
       " ('said', 200),\n",
       " ('joe', 199),\n",
       " ('daniels', 199),\n",
       " ('ron', 199),\n",
       " ('time', 190),\n",
       " ('republican', 190),\n",
       " ('think', 189),\n",
       " ('good', 185),\n",
       " ('republicans', 184),\n",
       " ('years', 182),\n",
       " ('never', 179),\n",
       " ('en', 178),\n",
       " ('going', 178),\n",
       " ('right', 173),\n",
       " ('election', 173),\n",
       " ('attorney', 173),\n",
       " ('could', 173),\n",
       " ('fraud', 171),\n",
       " ('taking', 170),\n",
       " ('says', 168),\n",
       " ('see', 168),\n",
       " ('back', 166),\n",
       " ('n', 162),\n",
       " ('pay', 156),\n",
       " ('even', 153),\n",
       " ('news', 152),\n",
       " ('say', 151)]"
      ]
     },
     "execution_count": 284,
     "metadata": {},
     "output_type": "execute_result"
    }
   ],
   "source": [
    "not_hate_freq.most_common(50)"
   ]
  },
  {
   "cell_type": "markdown",
   "id": "cd96b819",
   "metadata": {},
   "source": [
    "## Normalizing Word Frequencies"
   ]
  },
  {
   "cell_type": "code",
   "execution_count": 285,
   "id": "6efbb0cf",
   "metadata": {},
   "outputs": [
    {
     "name": "stdout",
     "output_type": "stream",
     "text": [
      "Hate Word \t Normalized Frequency\n",
      "\n",
      "people \t\t 0.00732\n",
      "random \t\t 0.006841\n",
      "like \t\t 0.006225\n",
      "criminal \t\t 0.005268\n",
      "would \t\t 0.004378\n",
      "biden \t\t 0.004173\n",
      "new \t\t 0.004139\n",
      "fifth \t\t 0.003934\n",
      "one \t\t 0.003865\n",
      "know \t\t 0.003694\n",
      "said \t\t 0.003592\n",
      "us \t\t 0.003386\n",
      "former \t\t 0.003318\n",
      "never \t\t 0.003318\n",
      "get \t\t 0.003215\n",
      "bad \t\t 0.003215\n",
      "news \t\t 0.003147\n",
      "time \t\t 0.003079\n",
      "guilty \t\t 0.003044\n",
      "york \t\t 0.002873\n",
      "man \t\t 0.002805\n",
      "read \t\t 0.002634\n",
      "via \t\t 0.002634\n",
      "going \t\t 0.002634\n",
      "jail \t\t 0.002565\n"
     ]
    }
   ],
   "source": [
    "hate_total_word_count = sum(hate_freq.values())\n",
    "hate_top_25 = hate_freq.most_common(25)\n",
    "print(\"Hate Word \\t Normalized Frequency\")\n",
    "print()\n",
    "for word in hate_top_25:\n",
    "    normalized_frequency = word[1]/hate_total_word_count\n",
    "    print(\"{} \\t\\t {:.4}\".format(word[0], normalized_frequency))"
   ]
  },
  {
   "cell_type": "markdown",
   "id": "00c90746",
   "metadata": {},
   "source": [
    "## Visualizing Top Word Percentages"
   ]
  },
  {
   "cell_type": "code",
   "execution_count": 286,
   "id": "d8d1b063",
   "metadata": {},
   "outputs": [],
   "source": [
    "# create counts of hate and not hate with values and words\n",
    "hate_bar_counts = [x[1] for x in hate_freq.most_common(20)]\n",
    "hate_bar_words = [x[0] for x in hate_freq.most_common(20)]\n",
    "\n",
    "not_hate_bar_counts = [x[1] for x in not_hate_freq.most_common(20)]\n",
    "not_hate_bar_words = [x[0] for x in not_hate_freq.most_common(20)]"
   ]
  },
  {
   "cell_type": "code",
   "execution_count": 287,
   "id": "992c2333",
   "metadata": {},
   "outputs": [],
   "source": [
    "# set the color of the bar graphs\n",
    "color = cm.magma(np.linspace(.4,.8, 30))"
   ]
  },
  {
   "cell_type": "code",
   "execution_count": 288,
   "id": "9a1a558c",
   "metadata": {},
   "outputs": [
    {
     "data": {
      "image/png": "[encoded data removed]",
      "text/plain": [
       "<Figure size 1008x432 with 2 Axes>"
      ]
     },
     "metadata": {
      "needs_background": "light"
     },
     "output_type": "display_data"
    }
   ],
   "source": [
    "new_figure = plt.figure(figsize=(14,6))\n",
    "\n",
    "ax = new_figure.add_subplot(121)\n",
    "ax.invert_yaxis()\n",
    "\n",
    "ax2 = new_figure.add_subplot(122)\n",
    "ax2.invert_yaxis()\n",
    "\n",
    "# generating a bar chart on each axes\n",
    "ax.barh(hate_bar_words, hate_bar_counts, color=color)\n",
    "ax2.barh(not_hate_bar_words, not_hate_bar_counts, color=color)\n",
    "\n",
    "ax.title.set_text('Hate Speech')\n",
    "ax2.title.set_text('Not Hate Speech')\n",
    "\n",
    "for ax in new_figure.axes:\n",
    "    plt.sca(ax)\n",
    "    plt.xticks(rotation=60, fontsize=14)\n",
    "    plt.xlabel(\"Word Count\")\n",
    "    plt.yticks(fontsize=14)\n",
    "plt.tight_layout(pad=2)\n",
    "\n",
    "new_figure.suptitle('Top 20 Most Frequent Words per Label', fontsize=16)\n",
    "\n",
    "plt.show()"
   ]
  },
  {
   "cell_type": "markdown",
   "id": "37c922e0",
   "metadata": {},
   "source": [
    "# Visualizing Unique Words with Venn Diagram"
   ]
  },
  {
   "cell_type": "code",
   "execution_count": 289,
   "id": "882798d1",
   "metadata": {},
   "outputs": [],
   "source": [
    "import matplotlib_venn as venn\n",
    "from matplotlib_venn import venn2, venn2_circles, venn3, venn3_circles\n",
    "import matplotlib.pyplot as plt"
   ]
  },
  {
   "cell_type": "code",
   "execution_count": 290,
   "id": "1f9420bd",
   "metadata": {},
   "outputs": [
    {
     "data": {
      "text/plain": [
       "Text(0.5, 1.0, 'Comparison of Unique Words in Each Corpus Label')"
      ]
     },
     "execution_count": 290,
     "metadata": {},
     "output_type": "execute_result"
    },
    {
     "data": {
      "image/png": "[encoded data removed]",
      "text/plain": [
       "<Figure size 432x288 with 1 Axes>"
      ]
     },
     "metadata": {},
     "output_type": "display_data"
    }
   ],
   "source": [
    "venn2([set(flat_hate), set(flat_not_hate)], set_labels = ('Hate Speech', 'Not Hate Speech'))\n",
    "plt.title('Comparison of Unique Words in Each Corpus Label')\n",
    "# plt.savefig('../visualizations/word_venn.png', bbox_inches = \"tight\", pad_inches=.5)"
   ]
  },
  {
   "cell_type": "markdown",
   "id": "1c9300fb",
   "metadata": {},
   "source": [
    "### Word Clouds"
   ]
  },
  {
   "cell_type": "code",
   "execution_count": 291,
   "id": "618877c4",
   "metadata": {},
   "outputs": [],
   "source": [
    "from wordcloud import WordCloud\n",
    "hate_dict = dict(zip(hate_bar_words, hate_bar_counts))\n",
    "not_hate_dict = dict(zip(not_hate_bar_words, not_hate_bar_counts))"
   ]
  },
  {
   "cell_type": "code",
   "execution_count": 292,
   "id": "565bc65e",
   "metadata": {},
   "outputs": [
    {
     "data": {
      "image/png": "[encoded data removed]",
      "text/plain": [
       "<Figure size 432x432 with 1 Axes>"
      ]
     },
     "metadata": {},
     "output_type": "display_data"
    }
   ],
   "source": [
    "# create the word cloud:\n",
    "wordcloud = WordCloud(colormap='Spectral').generate_from_frequencies(hate_dict)\n",
    "\n",
    "# Display the generated image w/ matplotlib:\n",
    "plt.figure(figsize=(6,6), facecolor='k')\n",
    "plt.imshow(wordcloud, interpolation='bilinear')\n",
    "plt.axis(\"off\")\n",
    "plt.tight_layout(pad=0)\n",
    "\n",
    "plt.show()"
   ]
  },
  {
   "cell_type": "code",
   "execution_count": 293,
   "id": "32168c15",
   "metadata": {},
   "outputs": [
    {
     "data": {
      "image/png": "[encoded data removed]",
      "text/plain": [
       "<Figure size 432x432 with 1 Axes>"
      ]
     },
     "metadata": {},
     "output_type": "display_data"
    }
   ],
   "source": [
    "wordcloud = WordCloud(colormap='Spectral').generate_from_frequencies(not_hate_dict)\n",
    "\n",
    "plt.figure(figsize=(6,6), facecolor='k')\n",
    "plt.imshow(wordcloud, interpolation='bilinear')\n",
    "plt.axis(\"off\")\n",
    "plt.tight_layout(pad=0)\n",
    "plt.show()"
   ]
  },
  {
   "cell_type": "markdown",
   "id": "f8cf2020",
   "metadata": {},
   "source": [
    "## Tweet Cloud of Most Frequent Words in Corpus"
   ]
  },
  {
   "cell_type": "code",
   "execution_count": 294,
   "id": "ef6f6f87",
   "metadata": {},
   "outputs": [],
   "source": [
    "tweet_df = clean_df[['clean_tweets', 'label']].copy()"
   ]
  },
  {
   "cell_type": "code",
   "execution_count": 295,
   "id": "8724565b",
   "metadata": {},
   "outputs": [],
   "source": [
    "tweet_df.to_csv('corpus.txt', sep='\\t')"
   ]
  },
  {
   "cell_type": "code",
   "execution_count": 296,
   "id": "4ca7bbc7",
   "metadata": {},
   "outputs": [],
   "source": [
    "import stylecloud\n",
    "stylecloud.gen_stylecloud(file_path = 'corpus.txt', icon_name= 'fab fa-twitter', collocations=False, output_name = \"icon_cloud.png\")"
   ]
  },
  {
   "cell_type": "markdown",
   "id": "1dc4b62e",
   "metadata": {},
   "source": [
    "<img src=\"icon_cloud.png\" width=\"400\" height=\"100\">"
   ]
  },
  {
   "cell_type": "markdown",
   "id": "ae60ebec",
   "metadata": {},
   "source": [
    "# Model building"
   ]
  },
  {
   "cell_type": "code",
   "execution_count": 297,
   "id": "113d8b6d",
   "metadata": {},
   "outputs": [],
   "source": [
    "# assigning variables to essential columns\n",
    "data = clean_df['clean_tweets']\n",
    "target = clean_df['label']"
   ]
  },
  {
   "cell_type": "markdown",
   "id": "820b4242",
   "metadata": {},
   "source": [
    "## Lemmatization\n",
    "\n",
    "This last method reduces each word into a linguistically valid **lemma**, or **root word**. It does this through linguistic mappings, using the WordNet lexical database.\n"
   ]
  },
  {
   "cell_type": "code",
   "execution_count": 298,
   "id": "ef78ce4a",
   "metadata": {},
   "outputs": [],
   "source": [
    "# creating a list with all lemmatized outputs\n",
    "lemmatizer = WordNetLemmatizer() \n",
    "lemmatized_output = []\n",
    "\n",
    "for listy in data:\n",
    "    lemmed = ''.join([lemmatizer.lemmatize(w) for w in listy])\n",
    "    lemmatized_output.append(lemmed)"
   ]
  },
  {
   "cell_type": "code",
   "execution_count": 299,
   "id": "759b436c",
   "metadata": {},
   "outputs": [],
   "source": [
    "X_lem = lemmatized_output\n",
    "y_lem = target"
   ]
  },
  {
   "cell_type": "markdown",
   "id": "117c5ee3",
   "metadata": {},
   "source": [
    "**Now X_lem and y_lem are contain cleaned text and the original labels, ready to be used for modeling.**"
   ]
  },
  {
   "cell_type": "markdown",
   "id": "3b28fea9",
   "metadata": {},
   "source": [
    "# Feature Engineering\n",
    "\n",
    "With Natural Language Processing, the purpose of feature engineering is to transform the tokenized text data into numerical vectors that the machine learning algorithm can \"understand.\"\n",
    "\n",
    "In this notebook, we'll be iterating through three different feature engineering techniques: **Count Vectorization and TF-IDF Vectorization**. Trying out these techniques could yield vastly different metrics on the same four baseline models."
   ]
  },
  {
   "cell_type": "markdown",
   "id": "e2b28748",
   "metadata": {},
   "source": [
    "## Train-Test Split\n",
    "First, let's perform a train-test split of the dataset, where 20% is reserved as unseen testing data."
   ]
  },
  {
   "cell_type": "code",
   "execution_count": 300,
   "id": "2938fccf",
   "metadata": {},
   "outputs": [],
   "source": [
    "X_train, X_test, y_train, y_test = train_test_split(X_lem, y_lem, test_size=0.20, random_state=15)"
   ]
  },
  {
   "cell_type": "markdown",
   "id": "01ad9a52",
   "metadata": {},
   "source": [
    "## TF-IDF Vectorization\n",
    "\n",
    "First, we’ll be trying one of the most popular methods, TF-IDF Vectorization.\n",
    "\n",
    "This is an acronym that stands for “Term Frequency — Inverse Document” Frequency which are the components of the resulting scores assigned to each word.\n",
    "- Term Frequency: This summarizes how often a given word appears within a document.\n",
    "- Inverse Document Frequency: This down scales words that appear a lot across documents.\n",
    "\n",
    "Without going into the math, TF-IDF are word frequency scores that try to highlight words that are more interesting, e.g. frequent in a document but not across other documents."
   ]
  },
  {
   "cell_type": "code",
   "execution_count": 301,
   "id": "c77f92ff",
   "metadata": {},
   "outputs": [],
   "source": [
    "# instantiating tf_idf vectorizer\n",
    "tfidf = TfidfVectorizer(stop_words= stop_words, ngram_range=(1,2))"
   ]
  },
  {
   "cell_type": "code",
   "execution_count": 302,
   "id": "3c590713",
   "metadata": {},
   "outputs": [],
   "source": [
    "# transforming tokenized data \n",
    "X_train_tfidf = tfidf.fit_transform(X_train)\n",
    "X_test_tfidf = tfidf.transform(X_test)"
   ]
  },
  {
   "cell_type": "markdown",
   "id": "9ad204c0",
   "metadata": {},
   "source": [
    "# Modeling Process"
   ]
  },
  {
   "cell_type": "markdown",
   "id": "a413b26f",
   "metadata": {},
   "source": [
    "## Evaluation Metrics\n",
    "\n",
    "For this business problem, **we will use F1 score as the main metric**, while also looking at Precision and Recall. The F1 score finds the harmonic mean between Precision and Recall, and it's useful for data with high class imbalance.\n",
    "\n",
    "**Overall, we want as much hate speech to flagged as possible** and so that it can be efficiently removed. This means also **optomizing the True Positive Rate**,  Recall.\n",
    "\n",
    "### Weighted F1 Score\n",
    "\n",
    "We will also be looking at the weighted F1 score, as it **can account for the class imbalance in labels by calculating metrics for each label**. It finds their average weighted by support (the number of true instances for each label). This results in a F1 score that is not between precision and recall.\n"
   ]
  },
  {
   "cell_type": "markdown",
   "id": "61bf26d7",
   "metadata": {},
   "source": [
    "## Using TF-IDF"
   ]
  },
  {
   "cell_type": "markdown",
   "id": "a60f9913",
   "metadata": {},
   "source": [
    "## Logistic Regression Model\n",
    "\n",
    "Logistic Regression is another common model used for classification tasks. Additionally, this model tends to work better with larger datasets."
   ]
  },
  {
   "cell_type": "code",
   "execution_count": 303,
   "id": "11d506bd",
   "metadata": {},
   "outputs": [],
   "source": [
    "log_reg = LogisticRegression(penalty='l2', class_weight='balanced', random_state=20)\n",
    "# class_weight='balanced' actually didn't impact the score"
   ]
  },
  {
   "cell_type": "markdown",
   "id": "2b44dec1",
   "metadata": {},
   "source": [
    "Here I added `class_weight='balanced'` again, but this actually didn't impact the score. So we'll keep that hyperparamter. Also note that the penality is set to `L2`, but that's already the default."
   ]
  },
  {
   "cell_type": "code",
   "execution_count": 304,
   "id": "91f770ae",
   "metadata": {},
   "outputs": [],
   "source": [
    "log_reg.fit(X_train_tfidf, y_train)\n",
    "log_reg_test_preds = log_reg.predict(X_test_tfidf)"
   ]
  },
  {
   "cell_type": "code",
   "execution_count": 305,
   "id": "ba300e02",
   "metadata": {},
   "outputs": [
    {
     "data": {
      "text/html": [
       "<div>\n",
       "<style scoped>\n",
       "    .dataframe tbody tr th:only-of-type {\n",
       "        vertical-align: middle;\n",
       "    }\n",
       "\n",
       "    .dataframe tbody tr th {\n",
       "        vertical-align: top;\n",
       "    }\n",
       "\n",
       "    .dataframe thead th {\n",
       "        text-align: right;\n",
       "    }\n",
       "</style>\n",
       "<table border=\"1\" class=\"dataframe\">\n",
       "  <thead>\n",
       "    <tr style=\"text-align: right;\">\n",
       "      <th></th>\n",
       "      <th>Performance</th>\n",
       "      <th>Score</th>\n",
       "    </tr>\n",
       "  </thead>\n",
       "  <tbody>\n",
       "    <tr>\n",
       "      <th>0</th>\n",
       "      <td>Precision</td>\n",
       "      <td>0.743802</td>\n",
       "    </tr>\n",
       "    <tr>\n",
       "      <th>1</th>\n",
       "      <td>Recall</td>\n",
       "      <td>0.775862</td>\n",
       "    </tr>\n",
       "    <tr>\n",
       "      <th>2</th>\n",
       "      <td>F1_score</td>\n",
       "      <td>0.759494</td>\n",
       "    </tr>\n",
       "    <tr>\n",
       "      <th>3</th>\n",
       "      <td>F1_weighted</td>\n",
       "      <td>0.884391</td>\n",
       "    </tr>\n",
       "  </tbody>\n",
       "</table>\n",
       "</div>"
      ],
      "text/plain": [
       "   Performance     Score\n",
       "0    Precision  0.743802\n",
       "1       Recall  0.775862\n",
       "2     F1_score  0.759494\n",
       "3  F1_weighted  0.884391"
      ]
     },
     "execution_count": 305,
     "metadata": {},
     "output_type": "execute_result"
    }
   ],
   "source": [
    "log_reg_precision = precision_score(y_test, log_reg_test_preds)\n",
    "log_reg_recall = recall_score(y_test, log_reg_test_preds)\n",
    "log_reg_f1_score = f1_score(y_test, log_reg_test_preds)\n",
    "log_reg_f1_weighted = f1_score(y_test, log_reg_test_preds, average='weighted')\n",
    "\n",
    "# printing scores\n",
    "result= {'Performance':['Precision','Recall','F1_score','F1_weighted'],\n",
    "          'Score':[log_reg_precision,log_reg_recall,log_reg_f1_score,log_reg_f1_weighted]}\n",
    "pd.DataFrame(result)"
   ]
  },
  {
   "cell_type": "markdown",
   "id": "397dd2de",
   "metadata": {},
   "source": [
    "## Naive Bayes Model\n",
    "\n",
    "This model is another common baseline classification algorithm that uses Bayes Theorem with an assumption of independence between predictors. However, this assumption of independence is usually violated because the predictors are typically correlated to each other. That's where the \"Naive\" comes from.\n",
    "\n",
    "Naive Bayes is a popular choice for text classification because it classifies based on the probabilities of events. Another pro is that this model takes less time to train."
   ]
  },
  {
   "cell_type": "code",
   "execution_count": 306,
   "id": "c48a668e",
   "metadata": {},
   "outputs": [],
   "source": [
    "naive_bayes = MultinomialNB(alpha = .01)"
   ]
  },
  {
   "cell_type": "code",
   "execution_count": 307,
   "id": "91ae9859",
   "metadata": {},
   "outputs": [
    {
     "name": "stdout",
     "output_type": "stream",
     "text": [
      "CPU times: total: 15.6 ms\n",
      "Wall time: 11 ms\n"
     ]
    }
   ],
   "source": [
    "%%time\n",
    "naive_bayes.fit(X_train_tfidf, y_train)\n",
    "bayes_test_preds = naive_bayes.predict(X_test_tfidf)"
   ]
  },
  {
   "cell_type": "code",
   "execution_count": 308,
   "id": "7ef717a8",
   "metadata": {},
   "outputs": [
    {
     "data": {
      "text/html": [
       "<div>\n",
       "<style scoped>\n",
       "    .dataframe tbody tr th:only-of-type {\n",
       "        vertical-align: middle;\n",
       "    }\n",
       "\n",
       "    .dataframe tbody tr th {\n",
       "        vertical-align: top;\n",
       "    }\n",
       "\n",
       "    .dataframe thead th {\n",
       "        text-align: right;\n",
       "    }\n",
       "</style>\n",
       "<table border=\"1\" class=\"dataframe\">\n",
       "  <thead>\n",
       "    <tr style=\"text-align: right;\">\n",
       "      <th></th>\n",
       "      <th>Performance</th>\n",
       "      <th>Score</th>\n",
       "    </tr>\n",
       "  </thead>\n",
       "  <tbody>\n",
       "    <tr>\n",
       "      <th>0</th>\n",
       "      <td>Precision</td>\n",
       "      <td>0.743802</td>\n",
       "    </tr>\n",
       "    <tr>\n",
       "      <th>1</th>\n",
       "      <td>Recall</td>\n",
       "      <td>0.775862</td>\n",
       "    </tr>\n",
       "    <tr>\n",
       "      <th>2</th>\n",
       "      <td>F1_score</td>\n",
       "      <td>0.759494</td>\n",
       "    </tr>\n",
       "    <tr>\n",
       "      <th>3</th>\n",
       "      <td>F1_weighted</td>\n",
       "      <td>0.884391</td>\n",
       "    </tr>\n",
       "  </tbody>\n",
       "</table>\n",
       "</div>"
      ],
      "text/plain": [
       "   Performance     Score\n",
       "0    Precision  0.743802\n",
       "1       Recall  0.775862\n",
       "2     F1_score  0.759494\n",
       "3  F1_weighted  0.884391"
      ]
     },
     "execution_count": 308,
     "metadata": {},
     "output_type": "execute_result"
    }
   ],
   "source": [
    "bayes_precision = precision_score(y_test, bayes_test_preds)\n",
    "bayes_recall = recall_score(y_test, bayes_test_preds)\n",
    "bayes_f1_score = f1_score(y_test, bayes_test_preds)\n",
    "bayes_f1_weighted = f1_score(y_test, bayes_test_preds, average='weighted')\n",
    "\n",
    "# printing scores\n",
    "result2= {'Performance':['Precision','Recall','F1_score','F1_weighted'],\n",
    "          'Score':[bayes_precision,bayes_recall,bayes_f1_score,bayes_f1_weighted]}\n",
    "pd.DataFrame(result)"
   ]
  },
  {
   "cell_type": "markdown",
   "id": "90888f8c",
   "metadata": {},
   "source": [
    "## Random Forest Model\n",
    "\n",
    "A random forest model is an ensamble method that uses multiple Decision Trees to try to predict the output variable. Typically, it's one of the best performing models for classification problems."
   ]
  },
  {
   "cell_type": "code",
   "execution_count": 309,
   "id": "801fa249",
   "metadata": {},
   "outputs": [],
   "source": [
    "random_forest = RandomForestClassifier(n_estimators=100, class_weight='balanced', random_state=0)"
   ]
  },
  {
   "cell_type": "markdown",
   "id": "0f2a5b8f",
   "metadata": {},
   "source": [
    "Note that adding `class_weight='balanced'` actually increaased precision, but decreased F1. We'll keep that hyperparameter in there, because it would need to be added eventually anyway, to deal with the huge class imbalance in this dataset."
   ]
  },
  {
   "cell_type": "code",
   "execution_count": 310,
   "id": "ce5d74e1",
   "metadata": {},
   "outputs": [],
   "source": [
    "random_forest.fit(X_train_tfidf, y_train)\n",
    "rf_test_preds = random_forest.predict(X_test_tfidf)"
   ]
  },
  {
   "cell_type": "code",
   "execution_count": 311,
   "id": "a2e57644",
   "metadata": {},
   "outputs": [
    {
     "data": {
      "text/html": [
       "<div>\n",
       "<style scoped>\n",
       "    .dataframe tbody tr th:only-of-type {\n",
       "        vertical-align: middle;\n",
       "    }\n",
       "\n",
       "    .dataframe tbody tr th {\n",
       "        vertical-align: top;\n",
       "    }\n",
       "\n",
       "    .dataframe thead th {\n",
       "        text-align: right;\n",
       "    }\n",
       "</style>\n",
       "<table border=\"1\" class=\"dataframe\">\n",
       "  <thead>\n",
       "    <tr style=\"text-align: right;\">\n",
       "      <th></th>\n",
       "      <th>Performance</th>\n",
       "      <th>Score</th>\n",
       "    </tr>\n",
       "  </thead>\n",
       "  <tbody>\n",
       "    <tr>\n",
       "      <th>0</th>\n",
       "      <td>Precision</td>\n",
       "      <td>0.743802</td>\n",
       "    </tr>\n",
       "    <tr>\n",
       "      <th>1</th>\n",
       "      <td>Recall</td>\n",
       "      <td>0.775862</td>\n",
       "    </tr>\n",
       "    <tr>\n",
       "      <th>2</th>\n",
       "      <td>F1_score</td>\n",
       "      <td>0.759494</td>\n",
       "    </tr>\n",
       "    <tr>\n",
       "      <th>3</th>\n",
       "      <td>F1_weighted</td>\n",
       "      <td>0.884391</td>\n",
       "    </tr>\n",
       "  </tbody>\n",
       "</table>\n",
       "</div>"
      ],
      "text/plain": [
       "   Performance     Score\n",
       "0    Precision  0.743802\n",
       "1       Recall  0.775862\n",
       "2     F1_score  0.759494\n",
       "3  F1_weighted  0.884391"
      ]
     },
     "execution_count": 311,
     "metadata": {},
     "output_type": "execute_result"
    }
   ],
   "source": [
    "rf_precision = precision_score(y_test, rf_test_preds)\n",
    "rf_recall = recall_score(y_test, rf_test_preds)\n",
    "rf_f1_score = f1_score(y_test, rf_test_preds)\n",
    "rf_f1_weighted = f1_score(y_test, rf_test_preds, average='weighted')\n",
    "\n",
    "# printing scores\n",
    "result3= {'Performance':['Precision','Recall','F1_score','F1_weighted'],\n",
    "          'Score':[rf_precision,rf_recall,rf_f1_score,rf_f1_weighted]}\n",
    "pd.DataFrame(result)"
   ]
  },
  {
   "cell_type": "markdown",
   "id": "74b67d71",
   "metadata": {},
   "source": [
    "# Evaluating All Models"
   ]
  },
  {
   "cell_type": "code",
   "execution_count": 312,
   "id": "54b03947",
   "metadata": {},
   "outputs": [
    {
     "data": {
      "text/html": [
       "<div>\n",
       "<style scoped>\n",
       "    .dataframe tbody tr th:only-of-type {\n",
       "        vertical-align: middle;\n",
       "    }\n",
       "\n",
       "    .dataframe tbody tr th {\n",
       "        vertical-align: top;\n",
       "    }\n",
       "\n",
       "    .dataframe thead th {\n",
       "        text-align: right;\n",
       "    }\n",
       "</style>\n",
       "<table border=\"1\" class=\"dataframe\">\n",
       "  <thead>\n",
       "    <tr style=\"text-align: right;\">\n",
       "      <th></th>\n",
       "      <th>Model</th>\n",
       "      <th>Precision</th>\n",
       "      <th>Recall</th>\n",
       "      <th>F1 score</th>\n",
       "      <th>F1 weighted</th>\n",
       "    </tr>\n",
       "  </thead>\n",
       "  <tbody>\n",
       "    <tr>\n",
       "      <th>0</th>\n",
       "      <td>Logistic regression</td>\n",
       "      <td>0.743802</td>\n",
       "      <td>0.775862</td>\n",
       "      <td>0.759494</td>\n",
       "      <td>0.884391</td>\n",
       "    </tr>\n",
       "    <tr>\n",
       "      <th>1</th>\n",
       "      <td>Naive(multinomial)</td>\n",
       "      <td>0.732468</td>\n",
       "      <td>0.607759</td>\n",
       "      <td>0.664311</td>\n",
       "      <td>0.849546</td>\n",
       "    </tr>\n",
       "    <tr>\n",
       "      <th>2</th>\n",
       "      <td>Randomforest</td>\n",
       "      <td>0.917266</td>\n",
       "      <td>0.549569</td>\n",
       "      <td>0.687332</td>\n",
       "      <td>0.870133</td>\n",
       "    </tr>\n",
       "  </tbody>\n",
       "</table>\n",
       "</div>"
      ],
      "text/plain": [
       "                Model   Precision    Recall  F1 score  F1 weighted\n",
       "0  Logistic regression   0.743802  0.775862  0.759494     0.884391\n",
       "1   Naive(multinomial)   0.732468  0.607759  0.664311     0.849546\n",
       "2         Randomforest   0.917266  0.549569  0.687332     0.870133"
      ]
     },
     "execution_count": 312,
     "metadata": {},
     "output_type": "execute_result"
    }
   ],
   "source": [
    "final = {'Model ':['Logistic regression','Naive(multinomial)','Randomforest'],\n",
    "        'Precision':[log_reg_precision,bayes_precision,rf_precision],\n",
    "        'Recall':[log_reg_recall,bayes_recall,rf_recall],\n",
    "        'F1 score':[log_reg_f1_score,bayes_f1_score,rf_f1_score],\n",
    "        'F1 weighted':[log_reg_f1_weighted,bayes_f1_weighted,rf_f1_weighted]}\n",
    "pd.DataFrame(final)"
   ]
  },
  {
   "cell_type": "markdown",
   "id": "cddca3ec",
   "metadata": {},
   "source": [
    "# Confusion matrix"
   ]
  },
  {
   "cell_type": "code",
   "execution_count": 313,
   "id": "e1f94c47",
   "metadata": {},
   "outputs": [
    {
     "data": {
      "image/png": "[encoded data removed]",
      "text/plain": [
       "<Figure size 432x288 with 2 Axes>"
      ]
     },
     "metadata": {
      "needs_background": "light"
     },
     "output_type": "display_data"
    }
   ],
   "source": [
    "confusion_matrix = metrics.confusion_matrix(y_test, bayes_test_preds)\n",
    "\n",
    "cm_display = metrics.ConfusionMatrixDisplay(confusion_matrix = confusion_matrix, display_labels = [True, False])\n",
    "\n",
    "cm_display.plot()\n",
    "plt.show()"
   ]
  },
  {
   "cell_type": "code",
   "execution_count": 314,
   "id": "7e5884bc",
   "metadata": {},
   "outputs": [
    {
     "data": {
      "image/png": "[encoded data removed]",
      "text/plain": [
       "<Figure size 576x360 with 2 Axes>"
      ]
     },
     "metadata": {
      "needs_background": "light"
     },
     "output_type": "display_data"
    }
   ],
   "source": [
    "from sklearn.metrics import confusion_matrix\n",
    "import seaborn as sns\n",
    "\n",
    "cm = confusion_matrix(y_test, bayes_test_preds)\n",
    "# Normalise\n",
    "target_names=['True','False']\n",
    "cmn = cm.astype('float') / cm.sum(axis=1)[:, np.newaxis]\n",
    "fig, ax = plt.subplots(figsize=(8,5))\n",
    "sns.heatmap(cmn, annot=True, fmt='.2f', xticklabels=target_names, yticklabels=target_names)\n",
    "plt.ylabel('Actual')\n",
    "plt.xlabel('Predicted')\n",
    "plt.show(block=False)"
   ]
  },
  {
   "cell_type": "markdown",
   "id": "3af7eaf2",
   "metadata": {},
   "source": [
    "# Conclusion :"
   ]
  },
  {
   "cell_type": "markdown",
   "id": "7d28aea8",
   "metadata": {},
   "source": [
    "After analysis all three model the **best f1 score and recall value we are getting in logistic regression model**.\n",
    "\n",
    "**F1 score : 0.75\\\n",
    "recall   : 0.77**\n",
    "\n",
    "over all we are getting 2441 unique hate speech word in our data set.\n",
    "This model will help to idetentify hate speech tweet easily.\n",
    "word like criminal ,fraud, bad and many more are most occuring word in hate speech  in this data set.\n"
   ]
  },
  {
   "cell_type": "code",
   "execution_count": null,
   "id": "de5dc9c2",
   "metadata": {},
   "outputs": [],
   "source": []
  }
 ],
 "metadata": {
  "kernelspec": {
   "display_name": "Python 3 (ipykernel)",
   "language": "python",
   "name": "python3"
  },
  "language_info": {
   "codemirror_mode": {
    "name": "ipython",
    "version": 3
   },
   "file_extension": ".py",
   "mimetype": "text/x-python",
   "name": "python",
   "nbconvert_exporter": "python",
   "pygments_lexer": "ipython3",
   "version": "3.9.12"
  }
 },
 "nbformat": 4,
 "nbformat_minor": 5
}
